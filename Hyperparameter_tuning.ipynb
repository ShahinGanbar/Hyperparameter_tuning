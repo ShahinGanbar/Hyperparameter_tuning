{
  "nbformat": 4,
  "nbformat_minor": 0,
  "metadata": {
    "colab": {
      "provenance": [],
      "authorship_tag": "ABX9TyPVfrjLJkSQB0w7pN0H+kh9",
      "include_colab_link": true
    },
    "kernelspec": {
      "name": "python3",
      "display_name": "Python 3"
    },
    "language_info": {
      "name": "python"
    }
  },
  "cells": [
    {
      "cell_type": "markdown",
      "metadata": {
        "id": "view-in-github",
        "colab_type": "text"
      },
      "source": [
        "<a href=\"https://colab.research.google.com/github/ShahinGanbar/Hyperparameter_tuning/blob/main/Hyperparameter_tuning.ipynb\" target=\"_parent\"><img src=\"https://colab.research.google.com/assets/colab-badge.svg\" alt=\"Open In Colab\"/></a>"
      ]
    },
    {
      "cell_type": "markdown",
      "source": [
        "Importing the requirements.\n"
      ],
      "metadata": {
        "id": "L2SuBJLygUEA"
      }
    },
    {
      "cell_type": "code",
      "execution_count": 2,
      "metadata": {
        "id": "CLNIY2v2dvYw"
      },
      "outputs": [],
      "source": [
        "import numpy as np\n",
        "import pandas as pd\n",
        "import matplotlib.pyplot as plt\n",
        "import seaborn as sns\n",
        "from sklearn.datasets import load_iris\n",
        "from sklearn.metrics import accuracy_score\n",
        "from sklearn.model_selection import train_test_split\n",
        "from sklearn.metrics import confusion_matrix\n",
        "from sklearn.metrics import classification_report\n",
        "from sklearn.ensemble import RandomForestClassifier\n",
        "from sklearn.model_selection import GridSearchCV"
      ]
    },
    {
      "cell_type": "markdown",
      "source": [
        "Loading iris data and performing Grid Search and Cross Validation\n"
      ],
      "metadata": {
        "id": "f9OzlVxFgh-h"
      }
    },
    {
      "cell_type": "code",
      "source": [
        "data = load_iris()\n",
        "\n",
        "X = data.data\n",
        "y = data.target\n",
        "\n",
        "X_train , X_test , y_train , y_test = train_test_split(X,y,test_size=0.3,random_state=42)\n",
        "\n",
        "rf_model = RandomForestClassifier()\n",
        "\n",
        "# Adjusting parameter grid\n",
        "param_grid = {\n",
        "    'n_estimators' : [50,100,200],\n",
        "    'max_depth' : [10,20,30],\n",
        "    'min_samples_split' : [2,5,10]\n",
        "}\n",
        "\n",
        "# Performing Grid Search on all data\n",
        "grid_search = GridSearchCV(rf_model,param_grid,cv=5,scoring='accuracy')\n",
        "grid_search.fit(X,y)\n",
        "\n",
        "print(\"Best Parameters:\", grid_search.best_params_)\n",
        "print(\"Best Cross-validation Accuracy:\", grid_search.best_score_)\n",
        "print(\"Best Estimator:\", grid_search.best_estimator_)\n",
        "\n",
        "# Best Parameters: {'max_depth': 10, 'min_samples_split': 2, 'n_estimators': 100}\n",
        "# Best Cross-validation Accuracy: 0.9666666666666668\n",
        "# Best Estimator: RandomForestClassifier(max_depth=10)\n",
        "\n"
      ],
      "metadata": {
        "colab": {
          "base_uri": "https://localhost:8080/"
        },
        "id": "YrqL7ozogTaF",
        "outputId": "5b1a6a73-3cbf-4b17-8d8f-2b7e460b64d0"
      },
      "execution_count": 5,
      "outputs": [
        {
          "output_type": "stream",
          "name": "stdout",
          "text": [
            "Best Parameters: {'max_depth': 10, 'min_samples_split': 2, 'n_estimators': 50}\n",
            "Best Cross-validation Accuracy: 0.9666666666666668\n",
            "Best Estimator: RandomForestClassifier(max_depth=10, n_estimators=50)\n"
          ]
        }
      ]
    },
    {
      "cell_type": "markdown",
      "source": [
        "Displaying metric results correspond to Cross Validation method\n"
      ],
      "metadata": {
        "id": "z3Aqb_0nvX5o"
      }
    },
    {
      "cell_type": "code",
      "source": [
        "from sklearn.model_selection import cross_validate\n",
        "from sklearn.metrics import make_scorer, precision_score, recall_score, f1_score, accuracy_score\n",
        "\n",
        "\n",
        "rf_best = grid_search.best_estimator_\n",
        "\n",
        "scoring = ['accuracy', 'precision_macro', 'recall_macro', 'f1_macro']\n",
        "cv_results = cross_validate(rf_best, X, y, cv=5, scoring=scoring)\n",
        "\n",
        "\n",
        "print(\"Cross-validation Accuracy:\", cv_results['test_accuracy'].mean())\n",
        "print(\"Cross-validation Precision (Macro):\", cv_results['test_precision_macro'].mean())\n",
        "print(\"Cross-validation Recall (Macro):\", cv_results['test_recall_macro'].mean())\n",
        "print(\"Cross-validation F1 Score (Macro):\", cv_results['test_f1_macro'].mean())\n"
      ],
      "metadata": {
        "colab": {
          "base_uri": "https://localhost:8080/"
        },
        "id": "TjaCyfL1unDo",
        "outputId": "c2f17378-4652-405f-bff9-8b59ac1df7ff"
      },
      "execution_count": 6,
      "outputs": [
        {
          "output_type": "stream",
          "name": "stdout",
          "text": [
            "Cross-validation Accuracy: 0.9666666666666668\n",
            "Cross-validation Precision (Macro): 0.9707070707070707\n",
            "Cross-validation Recall (Macro): 0.9666666666666668\n",
            "Cross-validation F1 Score (Macro): 0.9664818612187034\n"
          ]
        }
      ]
    },
    {
      "cell_type": "code",
      "source": [
        "\n",
        "y_pred = grid_search.best_estimator_.predict(X_test)\n",
        "\n",
        "# Accuracy\n",
        "accuracy = accuracy_score(y_test, y_pred)\n",
        "print(\"Accuracy:\", accuracy)\n",
        "#precision\n",
        "precision = precision_score(y_test, y_pred, average='macro')\n",
        "print(\"Precision:\", precision)\n",
        "#recall\n",
        "recall = recall_score(y_test, y_pred, average='macro')\n",
        "print(\"Recall:\", recall)\n",
        "\n",
        "\n",
        "# Confusion Matrix\n",
        "cm = confusion_matrix(y_test, y_pred)\n",
        "print(\"Confusion Matrix:\")\n",
        "print(cm)\n",
        "\n",
        "# Classification Report\n",
        "cr = classification_report(y_test, y_pred)\n",
        "print(\"Classification Report:\")\n",
        "print(cr)"
      ],
      "metadata": {
        "colab": {
          "base_uri": "https://localhost:8080/"
        },
        "id": "l2yee40ov94c",
        "outputId": "c4801aa1-fe49-49de-8819-fb54a000f29d"
      },
      "execution_count": 16,
      "outputs": [
        {
          "output_type": "stream",
          "name": "stdout",
          "text": [
            "Accuracy: 1.0\n",
            "Precision: 1.0\n",
            "Recall: 1.0\n",
            "Confusion Matrix:\n",
            "[[19  0  0]\n",
            " [ 0 13  0]\n",
            " [ 0  0 13]]\n",
            "Classification Report:\n",
            "              precision    recall  f1-score   support\n",
            "\n",
            "           0       1.00      1.00      1.00        19\n",
            "           1       1.00      1.00      1.00        13\n",
            "           2       1.00      1.00      1.00        13\n",
            "\n",
            "    accuracy                           1.00        45\n",
            "   macro avg       1.00      1.00      1.00        45\n",
            "weighted avg       1.00      1.00      1.00        45\n",
            "\n"
          ]
        }
      ]
    },
    {
      "cell_type": "code",
      "source": [
        "plt.figure(figsize=(8,6))\n",
        "sns.heatmap(cm,annot=True,cmap='coolwarm')\n",
        "import seaborn as sns\n",
        "import matplotlib.pyplot as plt\n",
        "\n",
        "\n",
        "plt.title('Confusion Matrix')\n",
        "plt.xlabel('Predicted')\n",
        "plt.ylabel('True')\n",
        "plt.show()\n"
      ],
      "metadata": {
        "colab": {
          "base_uri": "https://localhost:8080/",
          "height": 564
        },
        "id": "WMu91tt90TFG",
        "outputId": "6772e4a6-5a01-4f02-c8bc-c36d25333a98"
      },
      "execution_count": 18,
      "outputs": [
        {
          "output_type": "display_data",
          "data": {
            "text/plain": [
              "<Figure size 800x600 with 2 Axes>"
            ],
            "image/png": "[encoded data removed]"
          },
          "metadata": {}
        }
      ]
    }
  ]
}